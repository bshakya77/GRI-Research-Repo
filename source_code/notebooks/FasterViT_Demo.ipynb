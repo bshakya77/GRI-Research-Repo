{
  "nbformat": 4,
  "nbformat_minor": 0,
  "metadata": {
    "colab": {
      "provenance": [],
      "gpuType": "T4"
    },
    "kernelspec": {
      "name": "python3",
      "display_name": "Python 3"
    },
    "language_info": {
      "name": "python"
    },
    "accelerator": "GPU"
  },
  "cells": [
    {
      "cell_type": "code",
      "execution_count": null,
      "metadata": {
        "id": "6S9jPwkIAHuR"
      },
      "outputs": [],
      "source": [
        "!pip install fastervit"
      ]
    },
    {
      "cell_type": "code",
      "source": [
        "from fastervit import create_model\n",
        "\n",
        "# Define fastervit-0 model with 224 x 224 resolution\n",
        "model = create_model('faster_vit_0_224',\n",
        "                     pretrained=True,\n",
        "                     model_path=\"/tmp/faster_vit_0.pth.tar\")"
      ],
      "metadata": {
        "id": "u_Lqik9wAYGE"
      },
      "execution_count": null,
      "outputs": []
    },
    {
      "cell_type": "code",
      "source": [
        "import torch\n",
        "image = torch.rand(1, 3, 224, 224)\n",
        "print(image)\n",
        "output = model(image)"
      ],
      "metadata": {
        "id": "S2-IUJMDAdUi"
      },
      "execution_count": null,
      "outputs": []
    },
    {
      "cell_type": "code",
      "source": [
        "# Define any-resolution FasterViT-0 model with 576 x 960 resolution\n",
        "model = create_model('faster_vit_0_any_res',\n",
        "                          resolution=[576, 960],\n",
        "                          window_size=[7, 7, 12, 6],\n",
        "                          ct_size=2,\n",
        "                          dim=64,\n",
        "                          pretrained=True)"
      ],
      "metadata": {
        "id": "ier8i7nlA-0z"
      },
      "execution_count": null,
      "outputs": []
    },
    {
      "cell_type": "code",
      "source": [
        "image = torch.rand(1, 3, 576, 960)\n",
        "output = model(image)"
      ],
      "metadata": {
        "id": "XaKbn_JSBMXl"
      },
      "execution_count": null,
      "outputs": []
    },
    {
      "cell_type": "code",
      "source": [
        "from google.colab import drive\n",
        "drive.mount('/content/drive')"
      ],
      "metadata": {
        "id": "z8kRec1l-Nec"
      },
      "execution_count": null,
      "outputs": []
    },
    {
      "cell_type": "code",
      "source": [
        "import os\n",
        "\n",
        "# set up file paths\n",
        "#code_dir = '/content/drive/MyDrive/FasterViT/'\n",
        "code_dir = '/content/drive/MyDrive/FasterViT/fastervit'\n",
        "\n",
        "# move to code directory\n",
        "os.chdir(code_dir)"
      ],
      "metadata": {
        "id": "4AvU5Mvn-RcC"
      },
      "execution_count": null,
      "outputs": []
    },
    {
      "cell_type": "code",
      "source": [
        "!pip install -r requirements.txt"
      ],
      "metadata": {
        "id": "kKtupWZV_0VW"
      },
      "execution_count": null,
      "outputs": []
    },
    {
      "cell_type": "code",
      "source": [
        "!pip install timm"
      ],
      "metadata": {
        "id": "I2bazunq_5J6"
      },
      "execution_count": null,
      "outputs": []
    },
    {
      "cell_type": "code",
      "source": [
        "!pip install gcvit"
      ],
      "metadata": {
        "id": "0ZqCB8k9A0-L"
      },
      "execution_count": null,
      "outputs": []
    },
    {
      "cell_type": "code",
      "source": [
        "print(code_dir)"
      ],
      "metadata": {
        "id": "yxZDuaRjDrRM"
      },
      "execution_count": null,
      "outputs": []
    },
    {
      "cell_type": "code",
      "source": [
        "!python validate.py --model faster_vit_0_any_res --checkpoint='/home/ali/Desktop/Vision_Transformers/model_weights/faster_vit_models/fastervit_0_224_1k/fastervit_0_224_1k.pth.tar' --data_dir='/home/ali/Desktop/data_local/ImageNet-Validation/val' --batch-size 128 --input-size 3 224 224\n"
      ],
      "metadata": {
        "id": "jTk0njvSBqAx"
      },
      "execution_count": null,
      "outputs": []
    },
    {
      "cell_type": "code",
      "source": [],
      "metadata": {
        "id": "PTcuPzmsNAFT"
      },
      "execution_count": null,
      "outputs": []
    }
  ]
}
